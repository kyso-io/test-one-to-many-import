{
 "cells": [
  {
   "cell_type": "markdown",
   "metadata": {},
   "source": [
    "## this is the test branch\n",
    "\n",
    "After reading [@KyleOS's post](https://kyso.io/KyleOS/unicorns) about the breakdown of global unicorns I wanted to see how the number stacked up per capita.\n",
    "\n",
    "Using [CBInsights global unicorn tracker](https://www.cbinsights.com/research-unicorn-companies) and [UN population data for 2019](https://population.un.org/wpp/DataQuery/) I was able to calculate the number of unicorns each country has per 10m people.\n",
    "\n",
    "First lets just show the ranking of total number of unicorns."
   ]
  },
  {
   "cell_type": "code",
   "execution_count": 1,
   "metadata": {},
   "outputs": [
    {
     "ename": "ModuleNotFoundError",
     "evalue": "No module named 'pandas'",
     "output_type": "error",
     "traceback": [
      "\u001b[0;31m---------------------------------------------------------------------------\u001b[0m",
      "\u001b[0;31mModuleNotFoundError\u001b[0m                       Traceback (most recent call last)",
      "\u001b[0;32m<ipython-input-1-ec59bea206cb>\u001b[0m in \u001b[0;36m<module>\u001b[0;34m\u001b[0m\n\u001b[0;32m----> 1\u001b[0;31m \u001b[0;32mimport\u001b[0m \u001b[0mpandas\u001b[0m \u001b[0;32mas\u001b[0m \u001b[0mpd\u001b[0m\u001b[0;34m\u001b[0m\u001b[0;34m\u001b[0m\u001b[0m\n\u001b[0m\u001b[1;32m      2\u001b[0m \u001b[0mget_ipython\u001b[0m\u001b[0;34m(\u001b[0m\u001b[0;34m)\u001b[0m\u001b[0;34m.\u001b[0m\u001b[0mrun_line_magic\u001b[0m\u001b[0;34m(\u001b[0m\u001b[0;34m'run'\u001b[0m\u001b[0;34m,\u001b[0m \u001b[0;34m'plot.py'\u001b[0m\u001b[0;34m)\u001b[0m\u001b[0;34m\u001b[0m\u001b[0;34m\u001b[0m\u001b[0m\n",
      "\u001b[0;31mModuleNotFoundError\u001b[0m: No module named 'pandas'"
     ]
    }
   ],
   "source": [
    "import pandas as pd\n",
    "%run plot.py"
   ]
  },
  {
   "cell_type": "code",
   "execution_count": null,
   "metadata": {},
   "outputs": [],
   "source": [
    "# read the data\n",
    "df_population = pd.read_csv('./data/populations.txt', delimiter=',')\n",
    "df_cb = pd.read_excel('./data/CB-Insights_Global-Unicorn-Club_2019.xlsx')\n",
    "\n",
    "# lets group and count the startups by country\n",
    "df_startups = df_cb.groupby('Country').count()['Company'].to_frame()\n",
    "\n",
    "# rename usa so its the same in both datasets\n",
    "df_startups.rename(index={'United States':'United States of America'},inplace=True)\n",
    "\n",
    "# merge the dataframes\n",
    "df = df_startups.merge(df_population, on=['Country'])\n",
    "\n",
    "# calculate unicorns per 10m people\n",
    "df['Unicorns per 10m people'] = df['Company']/(df['2019']/10000000)"
   ]
  },
  {
   "cell_type": "markdown",
   "metadata": {},
   "source": [
    "## Total Unicorns per country 2019"
   ]
  },
  {
   "cell_type": "code",
   "execution_count": null,
   "metadata": {},
   "outputs": [],
   "source": [
    "df = df.sort_values('Company')\n",
    "bar = plotly.graph_objs.Bar(x=df['Company'], y=df['Country'], orientation = 'h')\n",
    "fig = plotly.graph_objs.Figure(data=[bar], layout=go.Layout(height=700, width=700, margin={\"l\": 150}))\n",
    "iplot(fig)"
   ]
  },
  {
   "cell_type": "markdown",
   "metadata": {},
   "source": [
    "We get results that we expect - the USA and China dominate when it comes to total number of unicorns. They are the worlds two largest economies and both have large populations and homogeneus markets to support such companies."
   ]
  },
  {
   "cell_type": "markdown",
   "metadata": {},
   "source": [
    "## Unicorns per 10m people per country 2019"
   ]
  },
  {
   "cell_type": "code",
   "execution_count": null,
   "metadata": {},
   "outputs": [],
   "source": [
    "df = df.sort_values('Unicorns per 10m people')\n",
    "bar = plotly.graph_objs.Bar(x=df['Unicorns per 10m people'], y=df['Country'], orientation = 'h')\n",
    "fig = plotly.graph_objs.Figure(data=[bar], layout=go.Layout(height=700, width=700, margin={\"l\": 150}))\n",
    "iplot(fig)"
   ]
  },
  {
   "cell_type": "markdown",
   "metadata": {},
   "source": [
    "Here we get a different picture - the top three countries have only one unicorn each and have very small populations. But after Estonia the rest of the countries have at least a population of 7 million.  It shows how the USA ranks really highly even when you take into account the population size. Smaller but high tech countries do really well - Isreal, Switzerland, HK, Singapore. Then we get cluster of European countries. Its suprising that China still does well even with high inequality and such a large population.\n",
    "\n",
    "Finally just for curiosity lets have a look at a global choropleth map."
   ]
  },
  {
   "cell_type": "code",
   "execution_count": null,
   "metadata": {},
   "outputs": [],
   "source": [
    "make_plot(df['Country'], df['Unicorns per 10m people'])"
   ]
  },
  {
   "cell_type": "markdown",
   "metadata": {},
   "source": [
    "Unicorns seem pretty spread out. But if we look at this map again in 10 years I'd probably expect Asian and African countries to be more represented on this map than they are now. \n",
    "\n",
    "Finally lets print the entire table sorted alphabetically by country for reference:"
   ]
  },
  {
   "cell_type": "code",
   "execution_count": null,
   "metadata": {},
   "outputs": [],
   "source": [
    "with pd.option_context('display.max_rows', None, 'display.max_columns', None):  # more options can be specified also\n",
    "    display(df_cb.sort_values('Country'))"
   ]
  },
  {
   "cell_type": "code",
   "execution_count": null,
   "metadata": {},
   "outputs": [],
   "source": []
  }
 ],
 "metadata": {
  "kernelspec": {
   "display_name": "Python 3",
   "language": "python",
   "name": "python3"
  },
  "language_info": {
   "codemirror_mode": {
    "name": "ipython",
    "version": 3
   },
   "file_extension": ".py",
   "mimetype": "text/x-python",
   "name": "python",
   "nbconvert_exporter": "python",
   "pygments_lexer": "ipython3",
   "version": "3.7.4-final"
  }
 },
 "nbformat": 4,
 "nbformat_minor": 2
}